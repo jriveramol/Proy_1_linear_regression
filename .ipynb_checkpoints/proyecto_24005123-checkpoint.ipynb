{
 "cells": [
  {
   "cell_type": "markdown",
   "id": "f00943a0-50a9-4522-a5c3-36b7d7701927",
   "metadata": {},
   "source": [
    "### Paso 1. Librerías"
   ]
  },
  {
   "cell_type": "code",
   "execution_count": 1,
   "id": "060a08e4-b5a8-4ed7-a5f8-b7a9501e3a23",
   "metadata": {},
   "outputs": [],
   "source": [
    "import pandas as pd\n",
    "import numpy as np\n",
    "import random"
   ]
  },
  {
   "cell_type": "markdown",
   "id": "c3b74651-2093-408f-9c96-1a2de9693214",
   "metadata": {},
   "source": [
    "### Paso 2. Carga y división del conjunto de datos"
   ]
  },
  {
   "cell_type": "code",
   "execution_count": 2,
   "id": "73a8ff1f-2fb8-4f70-8191-ddc4ab9776e9",
   "metadata": {},
   "outputs": [],
   "source": [
    "# cargamos los datos\n",
    "data = np.load('proyecto_training_data.npy')"
   ]
  },
  {
   "cell_type": "code",
   "execution_count": 3,
   "id": "d98e0577-80cc-4e46-b786-be5e5f01e705",
   "metadata": {},
   "outputs": [],
   "source": [
    "# los transformamos en un dataframe con columnas nombradas de acuerdo al Data fields.txt\n",
    "df_data = pd.DataFrame(data,columns=['SalePrice','OveralQuad','1stFlrSF',\n",
    "                                     'TotRmsAbvGrd','YearBuilt','LotFrontage'])"
   ]
  },
  {
   "cell_type": "code",
   "execution_count": 4,
   "id": "766f0683-54e8-4e0f-ace6-e0df5300cd5a",
   "metadata": {},
   "outputs": [],
   "source": [
    "# se seleccionan aleatoriamente 1168 índices (el 80%) del data set para el set de entrenamiento\n",
    "training_index = []\n",
    "cant_reg = data.shape[0]\n",
    "while len(training_index) < int(cant_reg*0.8):\n",
    "    num = random.randint(0,cant_reg - 1)\n",
    "    # No se toman índices repetidos\n",
    "    if num in training_index:\n",
    "        continue\n",
    "    else:\n",
    "        training_index.append(num)"
   ]
  },
  {
   "cell_type": "code",
   "execution_count": 8,
   "id": "5c1fbf77-7aad-4866-93ff-ea129cdb9379",
   "metadata": {},
   "outputs": [],
   "source": [
    "# para el set de prueba se seleccionan los demás índices que no se tomaron para el\n",
    "# set de entrenamiento. Se hace una diferencia de conjuntos.\n",
    "total_index = [i for i in range(0,cant_reg-1)]\n",
    "test_index = list(set(total_index).difference(set(training_index)))"
   ]
  },
  {
   "cell_type": "code",
   "execution_count": 9,
   "id": "f4b45b9b-ed1f-478d-bea6-907a49c85af6",
   "metadata": {},
   "outputs": [],
   "source": [
    "# se forman los set de entrenamiento y prueba con los índices obtenidos anteriormente\n",
    "training_data = data[np.array(training_index)]\n",
    "test_data = data[np.array(test_index)]"
   ]
  },
  {
   "cell_type": "markdown",
   "id": "4209328d-eab1-4a89-880d-787d40470e1c",
   "metadata": {},
   "source": [
    "### Paso 3. Análisis explotario de variables"
   ]
  },
  {
   "cell_type": "code",
   "execution_count": 7,
   "id": "474cf3c8-9caa-4018-85b6-dae24e78f50f",
   "metadata": {},
   "outputs": [
    {
     "name": "stdout",
     "output_type": "stream",
     "text": [
      "Variable SalePrice\n",
      "------------------------------\n",
      "mean_price = 180921.19589041095\n",
      "min_price = 34900.0\n",
      "max_price = 755000.0\n",
      "peak_price = 720100.0\n",
      "std_price = 79442.50288288663\n",
      "------------------------------\n",
      "\n",
      "Variable OveralQuad\n",
      "------------------------------\n",
      "mean_price = 180921.19589041095\n",
      "min_price = 34900.0\n",
      "max_price = 755000.0\n",
      "peak_price = 720100.0\n",
      "std_price = 79442.50288288663\n",
      "------------------------------\n",
      "\n",
      "Variable 1stFlrSF\n",
      "------------------------------\n",
      "mean_price = 180921.19589041095\n",
      "min_price = 34900.0\n",
      "max_price = 755000.0\n",
      "peak_price = 720100.0\n",
      "std_price = 79442.50288288663\n",
      "------------------------------\n",
      "\n",
      "Variable TotRmsAbvGrd\n",
      "------------------------------\n",
      "mean_price = 180921.19589041095\n",
      "min_price = 34900.0\n",
      "max_price = 755000.0\n",
      "peak_price = 720100.0\n",
      "std_price = 79442.50288288663\n",
      "------------------------------\n",
      "\n",
      "Variable YearBuilt\n",
      "------------------------------\n",
      "mean_price = 180921.19589041095\n",
      "min_price = 34900.0\n",
      "max_price = 755000.0\n",
      "peak_price = 720100.0\n",
      "std_price = 79442.50288288663\n",
      "------------------------------\n",
      "\n",
      "Variable LotFrontage\n",
      "------------------------------\n",
      "mean_price = 180921.19589041095\n",
      "min_price = 34900.0\n",
      "max_price = 755000.0\n",
      "peak_price = 720100.0\n",
      "std_price = 79442.50288288663\n",
      "------------------------------\n",
      "\n"
     ]
    }
   ],
   "source": [
    "for col in df_data.columns:\n",
    "    print(f'Variable {col}\\n{30*\"-\"}')\n",
    "    mean_price = df_data.SalePrice.mean() \n",
    "    print(f'{mean_price = :}')\n",
    "    min_price = df_data.SalePrice.min() \n",
    "    print(f'{min_price = :}')\n",
    "    max_price = df_data.SalePrice.max() \n",
    "    print(f'{max_price = :}')\n",
    "    peak_price = max_price - min_price \n",
    "    print(f'{peak_price = :}')\n",
    "    std_price = df_data.SalePrice.std() \n",
    "    print(f'{std_price = :}')\n",
    "    print(f\"{30*'-'}\\n\")"
   ]
  },
  {
   "cell_type": "code",
   "execution_count": null,
   "id": "11203a68-bdd8-4d89-b141-4671aa48e9de",
   "metadata": {},
   "outputs": [],
   "source": []
  }
 ],
 "metadata": {
  "kernelspec": {
   "display_name": "Python 3 (ipykernel)",
   "language": "python",
   "name": "python3"
  },
  "language_info": {
   "codemirror_mode": {
    "name": "ipython",
    "version": 3
   },
   "file_extension": ".py",
   "mimetype": "text/x-python",
   "name": "python",
   "nbconvert_exporter": "python",
   "pygments_lexer": "ipython3",
   "version": "3.8.18"
  }
 },
 "nbformat": 4,
 "nbformat_minor": 5
}
