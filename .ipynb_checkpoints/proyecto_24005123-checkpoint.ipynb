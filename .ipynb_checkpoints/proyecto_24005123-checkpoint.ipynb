{
 "cells": [
  {
   "cell_type": "code",
   "execution_count": 8,
   "id": "060a08e4-b5a8-4ed7-a5f8-b7a9501e3a23",
   "metadata": {},
   "outputs": [],
   "source": [
    "import pandas as pd\n",
    "import numpy as np\n",
    "import random"
   ]
  },
  {
   "cell_type": "code",
   "execution_count": 2,
   "id": "73a8ff1f-2fb8-4f70-8191-ddc4ab9776e9",
   "metadata": {},
   "outputs": [],
   "source": [
    "data = np.load('proyecto_training_data.npy')\n"
   ]
  },
  {
   "cell_type": "code",
   "execution_count": 32,
   "id": "d98e0577-80cc-4e46-b786-be5e5f01e705",
   "metadata": {},
   "outputs": [],
   "source": [
    "df_data = pd.DataFrame(data,columns=['SalePrice','OveralQuad','1stFlrSF',\n",
    "                                     'TotRmsAbvGrd','YearBuilt','LotFrontage'])"
   ]
  },
  {
   "cell_type": "code",
   "execution_count": 54,
   "id": "766f0683-54e8-4e0f-ace6-e0df5300cd5a",
   "metadata": {},
   "outputs": [],
   "source": [
    "training_index = []\n",
    "cant_reg = data.shape[0]\n",
    "while len(training_index) < int(cant_reg*0.8):\n",
    "    num = random.randint(0,cant_reg - 1)\n",
    "    if num in training_index:\n",
    "        continue\n",
    "    else:\n",
    "        training_index.append(num)"
   ]
  },
  {
   "cell_type": "code",
   "execution_count": 56,
   "id": "5c1fbf77-7aad-4866-93ff-ea129cdb9379",
   "metadata": {},
   "outputs": [],
   "source": [
    "total_index = [i for i in range(0,cant_reg-1)]\n",
    "test_index = list(set(total_index).difference(set(training_index)))"
   ]
  },
  {
   "cell_type": "code",
   "execution_count": 57,
   "id": "f4b45b9b-ed1f-478d-bea6-907a49c85af6",
   "metadata": {},
   "outputs": [],
   "source": [
    "training_data = data[np.array(training_index)]\n",
    "test_data = data[np.array(test_index)]"
   ]
  },
  {
   "cell_type": "code",
   "execution_count": 1,
   "id": "474cf3c8-9caa-4018-85b6-dae24e78f50f",
   "metadata": {},
   "outputs": [
    {
     "ename": "NameError",
     "evalue": "name 'df_data' is not defined",
     "output_type": "error",
     "traceback": [
      "\u001b[1;31m---------------------------------------------------------------------------\u001b[0m",
      "\u001b[1;31mNameError\u001b[0m                                 Traceback (most recent call last)",
      "Cell \u001b[1;32mIn[1], line 1\u001b[0m\n\u001b[1;32m----> 1\u001b[0m \u001b[38;5;28;01mfor\u001b[39;00m col \u001b[38;5;129;01min\u001b[39;00m \u001b[43mdf_data\u001b[49m\u001b[38;5;241m.\u001b[39mcolumns:\n\u001b[0;32m      2\u001b[0m     \u001b[38;5;28mprint\u001b[39m(\u001b[38;5;124mf\u001b[39m\u001b[38;5;124m'\u001b[39m\u001b[38;5;124mVariable \u001b[39m\u001b[38;5;132;01m{\u001b[39;00mcol\u001b[38;5;132;01m}\u001b[39;00m\u001b[38;5;130;01m\\n\u001b[39;00m\u001b[38;5;132;01m{\u001b[39;00m\u001b[38;5;241m30\u001b[39m\u001b[38;5;241m*\u001b[39m\u001b[38;5;124m\"\u001b[39m\u001b[38;5;124m-\u001b[39m\u001b[38;5;124m\"\u001b[39m\u001b[38;5;132;01m}\u001b[39;00m\u001b[38;5;124m'\u001b[39m)\n\u001b[0;32m      3\u001b[0m     mean_price \u001b[38;5;241m=\u001b[39m df_data\u001b[38;5;241m.\u001b[39mSalePrice\u001b[38;5;241m.\u001b[39mmean() \n",
      "\u001b[1;31mNameError\u001b[0m: name 'df_data' is not defined"
     ]
    }
   ],
   "source": [
    "for col in df_data.columns:\n",
    "    print(f'Variable {col}\\n{30*\"-\"}')\n",
    "    mean_price = df_data.SalePrice.mean() \n",
    "    print(f'{mean_price = :}')\n",
    "    min_price = df_data.SalePrice.min() \n",
    "    print(f'{min_price = :}')\n",
    "    max_price = df_data.SalePrice.max() \n",
    "    print(f'{max_price = :}')\n",
    "    peak_price = max_price - min_price \n",
    "    print(f'{peak_price = :}')\n",
    "    std_price = df_data.SalePrice.std() \n",
    "    print(f'{std_price = :}')"
   ]
  },
  {
   "cell_type": "code",
   "execution_count": null,
   "id": "11203a68-bdd8-4d89-b141-4671aa48e9de",
   "metadata": {},
   "outputs": [],
   "source": []
  }
 ],
 "metadata": {
  "kernelspec": {
   "display_name": "Python 3 (ipykernel)",
   "language": "python",
   "name": "python3"
  },
  "language_info": {
   "codemirror_mode": {
    "name": "ipython",
    "version": 3
   },
   "file_extension": ".py",
   "mimetype": "text/x-python",
   "name": "python",
   "nbconvert_exporter": "python",
   "pygments_lexer": "ipython3",
   "version": "3.8.18"
  }
 },
 "nbformat": 4,
 "nbformat_minor": 5
}
